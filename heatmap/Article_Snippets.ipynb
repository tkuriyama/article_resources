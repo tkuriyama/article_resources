{
 "cells": [
  {
   "cell_type": "markdown",
   "id": "184e6d29",
   "metadata": {},
   "source": [
    "## Notebook Setup"
   ]
  },
  {
   "cell_type": "code",
   "execution_count": 1,
   "id": "91c3e6f2",
   "metadata": {},
   "outputs": [],
   "source": [
    "import iex_cloud\n",
    "import ishares_holdings\n",
    "import json\n",
    "import logging, log_setup\n",
    "import utils\n",
    "from typing import List, Optional, Tuple"
   ]
  },
  {
   "cell_type": "code",
   "execution_count": 2,
   "id": "8db882d0",
   "metadata": {},
   "outputs": [],
   "source": [
    "logger = log_setup.init_notebook_log(logging.INFO)"
   ]
  },
  {
   "cell_type": "markdown",
   "id": "3033ad91",
   "metadata": {},
   "source": [
    "<hr>"
   ]
  },
  {
   "cell_type": "markdown",
   "id": "a587cf2e",
   "metadata": {},
   "source": [
    "**Load Publishable Key from Local**"
   ]
  },
  {
   "cell_type": "code",
   "execution_count": 3,
   "id": "527ef2b4",
   "metadata": {},
   "outputs": [],
   "source": [
    "with open('../../config.json', 'r') as f:\n",
    "    pk = json.load(f)['iex_pk']"
   ]
  },
  {
   "cell_type": "markdown",
   "id": "51c44061",
   "metadata": {},
   "source": [
    "<hr>"
   ]
  },
  {
   "cell_type": "markdown",
   "id": "80b4541c",
   "metadata": {},
   "source": [
    "## Get ETF Constituents"
   ]
  },
  {
   "cell_type": "code",
   "execution_count": 4,
   "id": "377e1900",
   "metadata": {},
   "outputs": [],
   "source": [
    "ivv = 'https://www.ishares.com/us/products/239726/ishares-core-sp-500-etf/'\n",
    "ivv += '1467271812596.ajax?fileType=csv&fileName=IVV_holdings&dataType=fund'"
   ]
  },
  {
   "cell_type": "code",
   "execution_count": 5,
   "id": "fe6e6e4c",
   "metadata": {},
   "outputs": [],
   "source": [
    "fund_ref, fund_holdings = ishares_holdings.get(ivv)"
   ]
  },
  {
   "cell_type": "markdown",
   "id": "0996de24",
   "metadata": {},
   "source": [
    "**Verify Parsed Data**"
   ]
  },
  {
   "cell_type": "code",
   "execution_count": 6,
   "id": "4bbbee60",
   "metadata": {},
   "outputs": [
    {
     "data": {
      "text/plain": [
       "{'name': 'iShares Core S&P 500 ETF',\n",
       " 'holdings_date': datetime.date(2021, 12, 7),\n",
       " 'inception': datetime.date(2000, 5, 15),\n",
       " 'shares_outstanding': 701450000}"
      ]
     },
     "execution_count": 6,
     "metadata": {},
     "output_type": "execute_result"
    }
   ],
   "source": [
    "fund_ref"
   ]
  },
  {
   "cell_type": "code",
   "execution_count": 7,
   "id": "37b76edd",
   "metadata": {},
   "outputs": [
    {
     "data": {
      "text/html": [
       "<div>\n",
       "<style scoped>\n",
       "    .dataframe tbody tr th:only-of-type {\n",
       "        vertical-align: middle;\n",
       "    }\n",
       "\n",
       "    .dataframe tbody tr th {\n",
       "        vertical-align: top;\n",
       "    }\n",
       "\n",
       "    .dataframe thead th {\n",
       "        text-align: right;\n",
       "    }\n",
       "</style>\n",
       "<table border=\"1\" class=\"dataframe\">\n",
       "  <thead>\n",
       "    <tr style=\"text-align: right;\">\n",
       "      <th></th>\n",
       "      <th>Ticker</th>\n",
       "      <th>Name</th>\n",
       "      <th>Sector</th>\n",
       "      <th>Asset Class</th>\n",
       "      <th>Market Value</th>\n",
       "      <th>Weight (%)</th>\n",
       "      <th>Notional Value</th>\n",
       "      <th>Shares</th>\n",
       "      <th>Price</th>\n",
       "      <th>Location</th>\n",
       "      <th>Exchange</th>\n",
       "      <th>Currency</th>\n",
       "      <th>FX Rate</th>\n",
       "      <th>Market Currency</th>\n",
       "      <th>Accrual Date</th>\n",
       "    </tr>\n",
       "  </thead>\n",
       "  <tbody>\n",
       "    <tr>\n",
       "      <th>0</th>\n",
       "      <td>AAPL</td>\n",
       "      <td>APPLE INC</td>\n",
       "      <td>Information Technology</td>\n",
       "      <td>Equity</td>\n",
       "      <td>2.231808e+10</td>\n",
       "      <td>6.74</td>\n",
       "      <td>2.231808e+10</td>\n",
       "      <td>130377822</td>\n",
       "      <td>171.18</td>\n",
       "      <td>United States</td>\n",
       "      <td>NASDAQ</td>\n",
       "      <td>USD</td>\n",
       "      <td>1.0</td>\n",
       "      <td>USD</td>\n",
       "      <td>None</td>\n",
       "    </tr>\n",
       "  </tbody>\n",
       "</table>\n",
       "</div>"
      ],
      "text/plain": [
       "  Ticker       Name                  Sector Asset Class  Market Value  \\\n",
       "0   AAPL  APPLE INC  Information Technology      Equity  2.231808e+10   \n",
       "\n",
       "   Weight (%)  Notional Value     Shares   Price       Location Exchange  \\\n",
       "0        6.74    2.231808e+10  130377822  171.18  United States   NASDAQ   \n",
       "\n",
       "  Currency  FX Rate Market Currency Accrual Date  \n",
       "0      USD      1.0             USD         None  "
      ]
     },
     "execution_count": 7,
     "metadata": {},
     "output_type": "execute_result"
    }
   ],
   "source": [
    "fund_holdings[:1]"
   ]
  },
  {
   "cell_type": "code",
   "execution_count": 8,
   "id": "3eecc0c0",
   "metadata": {},
   "outputs": [
    {
     "data": {
      "text/html": [
       "<div>\n",
       "<style scoped>\n",
       "    .dataframe tbody tr th:only-of-type {\n",
       "        vertical-align: middle;\n",
       "    }\n",
       "\n",
       "    .dataframe tbody tr th {\n",
       "        vertical-align: top;\n",
       "    }\n",
       "\n",
       "    .dataframe thead th {\n",
       "        text-align: right;\n",
       "    }\n",
       "</style>\n",
       "<table border=\"1\" class=\"dataframe\">\n",
       "  <thead>\n",
       "    <tr style=\"text-align: right;\">\n",
       "      <th></th>\n",
       "      <th>Ticker</th>\n",
       "      <th>Name</th>\n",
       "      <th>Sector</th>\n",
       "      <th>Weight (%)</th>\n",
       "      <th>Asset Class</th>\n",
       "    </tr>\n",
       "  </thead>\n",
       "  <tbody>\n",
       "    <tr>\n",
       "      <th>0</th>\n",
       "      <td>AAPL</td>\n",
       "      <td>APPLE INC</td>\n",
       "      <td>Information Technology</td>\n",
       "      <td>6.74</td>\n",
       "      <td>Equity</td>\n",
       "    </tr>\n",
       "    <tr>\n",
       "      <th>1</th>\n",
       "      <td>MSFT</td>\n",
       "      <td>MICROSOFT CORP</td>\n",
       "      <td>Information Technology</td>\n",
       "      <td>6.31</td>\n",
       "      <td>Equity</td>\n",
       "    </tr>\n",
       "    <tr>\n",
       "      <th>2</th>\n",
       "      <td>AMZN</td>\n",
       "      <td>AMAZON COM INC</td>\n",
       "      <td>Consumer Discretionary</td>\n",
       "      <td>3.85</td>\n",
       "      <td>Equity</td>\n",
       "    </tr>\n",
       "  </tbody>\n",
       "</table>\n",
       "</div>"
      ],
      "text/plain": [
       "  Ticker            Name                  Sector  Weight (%) Asset Class\n",
       "0   AAPL       APPLE INC  Information Technology        6.74      Equity\n",
       "1   MSFT  MICROSOFT CORP  Information Technology        6.31      Equity\n",
       "2   AMZN  AMAZON COM INC  Consumer Discretionary        3.85      Equity"
      ]
     },
     "execution_count": 8,
     "metadata": {},
     "output_type": "execute_result"
    }
   ],
   "source": [
    "fund_holdings[:3][['Ticker', 'Name', 'Sector', 'Weight (%)', 'Asset Class']]"
   ]
  },
  {
   "cell_type": "code",
   "execution_count": 9,
   "id": "5ff8def1",
   "metadata": {},
   "outputs": [
    {
     "data": {
      "text/html": [
       "<div>\n",
       "<style scoped>\n",
       "    .dataframe tbody tr th:only-of-type {\n",
       "        vertical-align: middle;\n",
       "    }\n",
       "\n",
       "    .dataframe tbody tr th {\n",
       "        vertical-align: top;\n",
       "    }\n",
       "\n",
       "    .dataframe thead th {\n",
       "        text-align: right;\n",
       "    }\n",
       "</style>\n",
       "<table border=\"1\" class=\"dataframe\">\n",
       "  <thead>\n",
       "    <tr style=\"text-align: right;\">\n",
       "      <th></th>\n",
       "      <th>Weight (%)</th>\n",
       "    </tr>\n",
       "    <tr>\n",
       "      <th>Asset Class</th>\n",
       "      <th></th>\n",
       "    </tr>\n",
       "  </thead>\n",
       "  <tbody>\n",
       "    <tr>\n",
       "      <th>Futures</th>\n",
       "      <td>0.00</td>\n",
       "    </tr>\n",
       "    <tr>\n",
       "      <th>Cash Collateral and Margins</th>\n",
       "      <td>0.01</td>\n",
       "    </tr>\n",
       "    <tr>\n",
       "      <th>Cash</th>\n",
       "      <td>0.14</td>\n",
       "    </tr>\n",
       "    <tr>\n",
       "      <th>Money Market</th>\n",
       "      <td>0.14</td>\n",
       "    </tr>\n",
       "    <tr>\n",
       "      <th>Equity</th>\n",
       "      <td>99.86</td>\n",
       "    </tr>\n",
       "  </tbody>\n",
       "</table>\n",
       "</div>"
      ],
      "text/plain": [
       "                             Weight (%)\n",
       "Asset Class                            \n",
       "Futures                            0.00\n",
       "Cash Collateral and Margins        0.01\n",
       "Cash                               0.14\n",
       "Money Market                       0.14\n",
       "Equity                            99.86"
      ]
     },
     "execution_count": 9,
     "metadata": {},
     "output_type": "execute_result"
    }
   ],
   "source": [
    "fund_holdings[['Asset Class', 'Weight (%)']].groupby('Asset Class').sum().sort_values(by='Weight (%)')"
   ]
  },
  {
   "cell_type": "markdown",
   "id": "a3f1c830",
   "metadata": {},
   "source": [
    "<hr>"
   ]
  },
  {
   "cell_type": "markdown",
   "id": "bfc9bac1",
   "metadata": {},
   "source": [
    "## Get OHLCV  (Open, High, Low, Close, Volume)"
   ]
  },
  {
   "cell_type": "code",
   "execution_count": 10,
   "id": "54624c5b",
   "metadata": {},
   "outputs": [],
   "source": [
    "Date = str\n",
    "Symbol = str\n",
    "OHLCV = Tuple[Date, Symbol, float, float, float, float, float]"
   ]
  },
  {
   "cell_type": "code",
   "execution_count": 11,
   "id": "0b34a25d",
   "metadata": {},
   "outputs": [],
   "source": [
    "\n",
    "def get_ohlcv(api_token: str, ticker: str) -> Tuple[OHLCV, utils.Status]:\n",
    "    \"\"\"Get OHLCV for a single ticker.\"\"\"\n",
    "    r = iex_cloud.previous(api_token, ticker)\n",
    "    ohlcv, status = parse_ohlcv(r.text)\n",
    "    if status != utils.OK():\n",
    "        logger.error(f'Error for {ticker}: {status.msg}')\n",
    "    return ohlcv, status"
   ]
  },
  {
   "cell_type": "code",
   "execution_count": 12,
   "id": "9cb6161e",
   "metadata": {},
   "outputs": [],
   "source": [
    "def parse_ohlcv(s: str) -> Tuple[OHLCV, utils.Status]:\n",
    "    \"\"\"Parse response text into OHLC.\"\"\"\n",
    "    status: utils.Status = utils.OK()\n",
    "\n",
    "    try:\n",
    "        d = json.loads(s)\n",
    "        ret = (d['date'],\n",
    "               d['symbol'],\n",
    "               d['open'],\n",
    "               d['high'],\n",
    "               d['low'],\n",
    "               d['close'],\n",
    "               d['volume'])\n",
    "    except Exception as e:\n",
    "        ret = ('', '', 0, 0, 0, 0, 0)\n",
    "        status = utils.Error(f'{e}')\n",
    "\n",
    "    return ret, status"
   ]
  },
  {
   "cell_type": "markdown",
   "id": "eba15016",
   "metadata": {},
   "source": [
    "**Success and Failure Examples**"
   ]
  },
  {
   "cell_type": "code",
   "execution_count": 13,
   "id": "9e85ba73",
   "metadata": {},
   "outputs": [
    {
     "data": {
      "text/plain": [
       "(('2021-12-07', 'AAPL', 169.08, 171.58, 168.34, 171.18, 120405352),\n",
       " OK(msg='OK'))"
      ]
     },
     "execution_count": 13,
     "metadata": {},
     "output_type": "execute_result"
    }
   ],
   "source": [
    "get_ohlcv(pk, 'AAPL')"
   ]
  },
  {
   "cell_type": "code",
   "execution_count": 14,
   "id": "00d74874",
   "metadata": {},
   "outputs": [
    {
     "name": "stderr",
     "output_type": "stream",
     "text": [
      "2021-12-08 13:41:54,728 - WARNING - utils - HTTP request returned code 404\n",
      "2021-12-08 13:41:54,729 - ERROR - Notebook - Error for UNICORN: Expecting value: line 1 column 1 (char 0)\n"
     ]
    },
    {
     "data": {
      "text/plain": [
       "(('', '', 0, 0, 0, 0, 0),\n",
       " Error(msg='Expecting value: line 1 column 1 (char 0)'))"
      ]
     },
     "execution_count": 14,
     "metadata": {},
     "output_type": "execute_result"
    }
   ],
   "source": [
    "get_ohlcv(pk, 'UNICORN')"
   ]
  },
  {
   "cell_type": "markdown",
   "id": "521d57eb",
   "metadata": {},
   "source": [
    "<hr>"
   ]
  },
  {
   "cell_type": "markdown",
   "id": "1cdf0d73",
   "metadata": {},
   "source": [
    "## Joining the Data"
   ]
  },
  {
   "cell_type": "code",
   "execution_count": 15,
   "id": "7bd77c0b",
   "metadata": {},
   "outputs": [
    {
     "data": {
      "text/html": [
       "<div>\n",
       "<style scoped>\n",
       "    .dataframe tbody tr th:only-of-type {\n",
       "        vertical-align: middle;\n",
       "    }\n",
       "\n",
       "    .dataframe tbody tr th {\n",
       "        vertical-align: top;\n",
       "    }\n",
       "\n",
       "    .dataframe thead th {\n",
       "        text-align: right;\n",
       "    }\n",
       "</style>\n",
       "<table border=\"1\" class=\"dataframe\">\n",
       "  <thead>\n",
       "    <tr style=\"text-align: right;\">\n",
       "      <th></th>\n",
       "      <th>Ticker</th>\n",
       "      <th>Name</th>\n",
       "      <th>Sector</th>\n",
       "      <th>Weight (%)</th>\n",
       "    </tr>\n",
       "  </thead>\n",
       "  <tbody>\n",
       "    <tr>\n",
       "      <th>0</th>\n",
       "      <td>AAPL</td>\n",
       "      <td>APPLE INC</td>\n",
       "      <td>Information Technology</td>\n",
       "      <td>6.74</td>\n",
       "    </tr>\n",
       "    <tr>\n",
       "      <th>1</th>\n",
       "      <td>MSFT</td>\n",
       "      <td>MICROSOFT CORP</td>\n",
       "      <td>Information Technology</td>\n",
       "      <td>6.31</td>\n",
       "    </tr>\n",
       "    <tr>\n",
       "      <th>2</th>\n",
       "      <td>AMZN</td>\n",
       "      <td>AMAZON COM INC</td>\n",
       "      <td>Consumer Discretionary</td>\n",
       "      <td>3.85</td>\n",
       "    </tr>\n",
       "  </tbody>\n",
       "</table>\n",
       "</div>"
      ],
      "text/plain": [
       "  Ticker            Name                  Sector  Weight (%)\n",
       "0   AAPL       APPLE INC  Information Technology        6.74\n",
       "1   MSFT  MICROSOFT CORP  Information Technology        6.31\n",
       "2   AMZN  AMAZON COM INC  Consumer Discretionary        3.85"
      ]
     },
     "execution_count": 15,
     "metadata": {},
     "output_type": "execute_result"
    }
   ],
   "source": [
    "df = fund_holdings[fund_holdings['Asset Class'] == 'Equity'] \n",
    "stocks = df[['Ticker', 'Name', 'Sector', 'Weight (%)']]\n",
    "stocks[:3]"
   ]
  },
  {
   "cell_type": "code",
   "execution_count": 16,
   "id": "a1b7299b",
   "metadata": {},
   "outputs": [],
   "source": [
    "Holding = Tuple[str, str, str, float]\n",
    "PricedHolding = Tuple[Holding, OHLCV]"
   ]
  },
  {
   "cell_type": "code",
   "execution_count": 17,
   "id": "4f45e64c",
   "metadata": {},
   "outputs": [],
   "source": [
    "def add_ohlcv(api_token: str, holding: Holding) -> Optional[PricedHolding]:\n",
    "    ohlcv, status = get_ohlcv(api_token, holding[0].strip())\n",
    "    return (holding, ohlcv) if status == utils.OK() else None\n"
   ]
  },
  {
   "cell_type": "code",
   "execution_count": 18,
   "id": "a4a03356",
   "metadata": {},
   "outputs": [
    {
     "name": "stdout",
     "output_type": "stream",
     "text": [
      "(('AAPL', 'APPLE INC', 'Information Technology', 6.74), ('2021-12-07', 'AAPL', 169.08, 171.58, 168.34, 171.18, 120405352))\n",
      "(('MSFT', 'MICROSOFT CORP', 'Information Technology', 6.31), ('2021-12-07', 'MSFT', 331.64, 335.8, 330.1, 334.92, 31021936))\n",
      "(('AMZN', 'AMAZON COM INC', 'Consumer Discretionary', 3.85), ('2021-12-07', 'AMZN', 3492, 3549.99, 3466.69, 3523.29, 3320536))\n"
     ]
    }
   ],
   "source": [
    "for holding in stocks[:3].itertuples(index=False):\n",
    "    print(add_ohlcv(pk, tuple(holding)))"
   ]
  },
  {
   "cell_type": "markdown",
   "id": "050506dc",
   "metadata": {},
   "source": [
    "<hr>"
   ]
  },
  {
   "cell_type": "markdown",
   "id": "74d79637",
   "metadata": {},
   "source": [
    "## Elm Code Gen"
   ]
  },
  {
   "cell_type": "code",
   "execution_count": 19,
   "id": "d1e86538",
   "metadata": {},
   "outputs": [],
   "source": [
    "def module(name: str, exp: List[str]) -> str:\n",
    "    \"\"\"Module declaration.\"\"\"\n",
    "    e = exposing(exp)\n",
    "    return f'module {name} {e}\\n'\n",
    "\n",
    "def exposing(names: List[str], exp_all: bool = False) -> str:\n",
    "    \"\"\"Exposing...\"\"\"\n",
    "    if exp_all: return '(..)'\n",
    "    xs = ', '.join(name for name in names)\n",
    "    return f'exposing ( {xs} )'\n"
   ]
  },
  {
   "cell_type": "code",
   "execution_count": 20,
   "id": "ab5020fd",
   "metadata": {},
   "outputs": [
    {
     "data": {
      "text/plain": [
       "'module MyModule exposing ( Foo, Bar )\\n'"
      ]
     },
     "execution_count": 20,
     "metadata": {},
     "output_type": "execute_result"
    }
   ],
   "source": [
    "module('MyModule', ['Foo', 'Bar'])"
   ]
  }
 ],
 "metadata": {
  "kernelspec": {
   "display_name": "Python 3",
   "language": "python",
   "name": "python3"
  },
  "language_info": {
   "codemirror_mode": {
    "name": "ipython",
    "version": 3
   },
   "file_extension": ".py",
   "mimetype": "text/x-python",
   "name": "python",
   "nbconvert_exporter": "python",
   "pygments_lexer": "ipython3",
   "version": "3.9.6"
  }
 },
 "nbformat": 4,
 "nbformat_minor": 5
}
